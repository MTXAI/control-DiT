{
 "cells": [
  {
   "cell_type": "code",
   "id": "initial_id",
   "metadata": {
    "collapsed": true,
    "ExecuteTime": {
     "end_time": "2024-05-04T17:44:48.147664Z",
     "start_time": "2024-05-04T17:44:47.453517Z"
    }
   },
   "source": [
    "from utils.image_tools import ImageTools\n",
    "\n",
    "imgTools = ImageTools()"
   ],
   "execution_count": 1,
   "outputs": []
  },
  {
   "metadata": {
    "ExecuteTime": {
     "end_time": "2024-05-04T17:44:48.266042Z",
     "start_time": "2024-05-04T17:44:48.148928Z"
    }
   },
   "cell_type": "code",
   "source": [
    "img_folder = \"../datasets/example/trainval/\"\n",
    "img_filename = \"000000190236\"\n",
    "img = imgTools.read(img_folder + img_filename + \".jpg\")\n",
    "imgTools.display(imgTools.cv2_to_pil(img))"
   ],
   "id": "5e70fa629ffbfb67",
   "execution_count": 2,
   "outputs": []
  },
  {
   "metadata": {
    "ExecuteTime": {
     "end_time": "2024-05-04T17:44:48.365034Z",
     "start_time": "2024-05-04T17:44:48.266648Z"
    }
   },
   "cell_type": "code",
   "source": [
    "gray_img = imgTools.gray(img)\n",
    "imgTools.display(gray_img)"
   ],
   "id": "e7252a7c807ae3ff",
   "execution_count": 3,
   "outputs": []
  },
  {
   "metadata": {
    "ExecuteTime": {
     "end_time": "2024-05-04T17:44:48.450291Z",
     "start_time": "2024-05-04T17:44:48.365620Z"
    }
   },
   "cell_type": "code",
   "source": [
    "gamma_img = imgTools.gamma_convert(gray_img)\n",
    "imgTools.display(gamma_img)"
   ],
   "id": "ff1637aa4aaedbbd",
   "execution_count": 4,
   "outputs": []
  },
  {
   "metadata": {
    "ExecuteTime": {
     "end_time": "2024-05-04T17:44:48.538838Z",
     "start_time": "2024-05-04T17:44:48.451844Z"
    }
   },
   "cell_type": "code",
   "source": [
    "enhanced_img = imgTools.enhance(gamma_img)\n",
    "imgTools.display(enhanced_img)"
   ],
   "id": "d4d6daa114a54f1c",
   "execution_count": 5,
   "outputs": []
  },
  {
   "metadata": {
    "ExecuteTime": {
     "end_time": "2024-05-04T17:44:48.631264Z",
     "start_time": "2024-05-04T17:44:48.539560Z"
    }
   },
   "cell_type": "code",
   "source": [
    "blur_img = imgTools.blur(enhanced_img)\n",
    "imgTools.display(blur_img)"
   ],
   "id": "b88f2b3b0b8aa198",
   "execution_count": 6,
   "outputs": []
  },
  {
   "metadata": {
    "ExecuteTime": {
     "end_time": "2024-05-04T17:44:48.699198Z",
     "start_time": "2024-05-04T17:44:48.632281Z"
    }
   },
   "cell_type": "code",
   "source": [
    "binary_img = imgTools.to_binary(blur_img)\n",
    "imgTools.display(binary_img)"
   ],
   "id": "21c5a8ea2e6b8985",
   "execution_count": 7,
   "outputs": []
  },
  {
   "metadata": {
    "ExecuteTime": {
     "end_time": "2024-05-04T17:45:30.297051Z",
     "start_time": "2024-05-04T17:45:23.031066Z"
    }
   },
   "cell_type": "code",
   "source": [
    "from matplotlib import pyplot as plt\n",
    "deep_img = imgTools.to_deep(img, model_type=\"DPT_Large\")\n",
    "plt.imshow(deep_img)"
   ],
   "id": "7845919938cac005",
   "execution_count": 10,
   "outputs": []
  },
  {
   "metadata": {
    "ExecuteTime": {
     "end_time": "2024-05-04T17:45:36.179454Z",
     "start_time": "2024-05-04T17:45:36.086008Z"
    }
   },
   "cell_type": "code",
   "source": "imgTools.display(imgTools.deep_2_cv2(deep_img))",
   "id": "c5945895dd4f1e24",
   "execution_count": 11,
   "outputs": []
  },
  {
   "metadata": {
    "ExecuteTime": {
     "end_time": "2024-05-04T17:45:37.658996Z",
     "start_time": "2024-05-04T17:45:37.570281Z"
    }
   },
   "cell_type": "code",
   "source": [
    "deep_img_resized = imgTools.resize(deep_img, dsize=(512, 512))\n",
    "imgTools.display(imgTools.deep_2_cv2(deep_img_resized))"
   ],
   "id": "b7f6e397db35533f",
   "execution_count": 12,
   "outputs": []
  },
  {
   "metadata": {},
   "cell_type": "code",
   "source": "",
   "id": "2a629604f68a222d",
   "execution_count": null,
   "outputs": []
  },
  {
   "metadata": {},
   "cell_type": "code",
   "source": "",
   "id": "458b70cae375ca4e",
   "execution_count": null,
   "outputs": []
  },
  {
   "metadata": {},
   "cell_type": "code",
   "source": "",
   "id": "2781010552332013",
   "execution_count": null,
   "outputs": []
  },
  {
   "metadata": {},
   "cell_type": "code",
   "source": "",
   "id": "2a3813e6c7c35e0f",
   "execution_count": null,
   "outputs": []
  }
 ],
 "metadata": {
  "kernelspec": {
   "display_name": "Python 3",
   "language": "python",
   "name": "python3"
  },
  "language_info": {
   "codemirror_mode": {
    "name": "ipython",
    "version": 2
   },
   "file_extension": ".py",
   "mimetype": "text/x-python",
   "name": "python",
   "nbconvert_exporter": "python",
   "pygments_lexer": "ipython2",
   "version": "2.7.6"
  }
 },
 "nbformat": 4,
 "nbformat_minor": 5
}
