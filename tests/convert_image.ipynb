{
 "cells": [
  {
   "cell_type": "code",
   "id": "initial_id",
   "metadata": {
    "collapsed": true,
    "ExecuteTime": {
     "end_time": "2024-05-04T14:16:10.159095Z",
     "start_time": "2024-05-04T14:16:09.438833Z"
    }
   },
   "source": [
    "from utils.image_tools import ImageTools\n",
    "\n",
    "imgTools = ImageTools()\n",
    "\n",
    "img_folder = \"../datasets/example/trainval/\"\n",
    "img_filename = \"000000190236\""
   ],
   "execution_count": 1,
   "outputs": []
  },
  {
   "metadata": {
    "ExecuteTime": {
     "end_time": "2024-05-04T14:16:10.276355Z",
     "start_time": "2024-05-04T14:16:10.160310Z"
    }
   },
   "cell_type": "code",
   "source": [
    "cv2_img = imgTools.read(img_folder + img_filename + \".jpg\")\n",
    "print(cv2_img.shape)\n",
    "imgTools.display(cv2_img)\n",
    "\n",
    "pil_img = imgTools.cv2_to_pil(cv2_img)\n",
    "print(pil_img.size)\n",
    "\n",
    "tensor = imgTools.cv2_to_pil_tensor(cv2_img)\n",
    "print(tensor.shape)"
   ],
   "id": "c1ec070e081a52ce",
   "execution_count": 2,
   "outputs": []
  },
  {
   "metadata": {
    "ExecuteTime": {
     "end_time": "2024-05-04T14:16:10.387442Z",
     "start_time": "2024-05-04T14:16:10.277269Z"
    }
   },
   "cell_type": "code",
   "source": [
    "cv2_img = imgTools.pil_to_cv2(pil_img)\n",
    "print(cv2_img.shape)\n",
    "imgTools.display(cv2_img)\n",
    "\n",
    "tensor = imgTools.pil_to_pil_tensor(pil_img)\n",
    "print(tensor.shape)"
   ],
   "id": "cb34c5baeee615d9",
   "execution_count": 3,
   "outputs": []
  },
  {
   "metadata": {
    "ExecuteTime": {
     "end_time": "2024-05-04T14:16:10.498763Z",
     "start_time": "2024-05-04T14:16:10.388374Z"
    }
   },
   "cell_type": "code",
   "source": [
    "cv2_img = imgTools.pil_tensor_to_cv2(tensor)\n",
    "print(cv2_img.shape)\n",
    "imgTools.display(cv2_img)\n",
    "\n",
    "pil_img = imgTools.pil_tensor_to_pil(tensor)\n",
    "print(pil_img.size)"
   ],
   "id": "48e062c5a0c72a80",
   "execution_count": 4,
   "outputs": []
  },
  {
   "metadata": {
    "ExecuteTime": {
     "end_time": "2024-05-04T14:16:10.503868Z",
     "start_time": "2024-05-04T14:16:10.500301Z"
    }
   },
   "cell_type": "code",
   "source": [
    "tim = imgTools.resize(cv2_img, (1, 256*256))\n",
    "print(tim.shape)"
   ],
   "id": "d5e158fc94a11fd",
   "execution_count": 5,
   "outputs": []
  },
  {
   "metadata": {
    "ExecuteTime": {
     "end_time": "2024-05-04T14:16:10.506028Z",
     "start_time": "2024-05-04T14:16:10.504681Z"
    }
   },
   "cell_type": "code",
   "source": "",
   "id": "69a8efb64047d452",
   "execution_count": 5,
   "outputs": []
  },
  {
   "metadata": {
    "ExecuteTime": {
     "end_time": "2024-05-04T14:16:10.508137Z",
     "start_time": "2024-05-04T14:16:10.506792Z"
    }
   },
   "cell_type": "code",
   "source": "",
   "id": "bd896c4df34d5cac",
   "execution_count": 5,
   "outputs": []
  }
 ],
 "metadata": {
  "kernelspec": {
   "display_name": "Python 3",
   "language": "python",
   "name": "python3"
  },
  "language_info": {
   "codemirror_mode": {
    "name": "ipython",
    "version": 2
   },
   "file_extension": ".py",
   "mimetype": "text/x-python",
   "name": "python",
   "nbconvert_exporter": "python",
   "pygments_lexer": "ipython2",
   "version": "2.7.6"
  }
 },
 "nbformat": 4,
 "nbformat_minor": 5
}
