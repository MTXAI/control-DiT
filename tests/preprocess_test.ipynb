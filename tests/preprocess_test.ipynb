{
 "cells": [
  {
   "cell_type": "code",
   "id": "initial_id",
   "metadata": {
    "collapsed": true,
    "ExecuteTime": {
     "end_time": "2024-05-26T09:38:20.462473Z",
     "start_time": "2024-05-26T09:38:20.459328Z"
    }
   },
   "source": [
    "import cv2\n",
    "\n",
    "root = \"../datasets/tiny-imagenet-200\"\n",
    "num_workers = 0\n",
    "image_size = 256\n"
   ],
   "outputs": [],
   "execution_count": 10
  },
  {
   "metadata": {
    "ExecuteTime": {
     "end_time": "2024-05-26T09:38:20.470710Z",
     "start_time": "2024-05-26T09:38:20.464430Z"
    }
   },
   "cell_type": "code",
   "source": [
    "import argparse\n",
    "import os\n",
    "\n",
    "import numpy as np\n",
    "import torch\n",
    "import torchvision.transforms as transforms\n",
    "import torch.distributed as dist\n",
    "from accelerate import Accelerator\n",
    "from torch.utils.data import DataLoader\n",
    "from torchvision.datasets import ImageFolder, ImageNet\n",
    "\n",
    "import utils.dataset\n",
    "from utils.image_tools import ImageTools\n",
    "\n",
    "CUDA = True if torch.cuda.is_available() else False\n",
    "Tensor = torch.cuda.FloatTensor if CUDA else torch.FloatTensor\n",
    "Device = \"cuda\" if CUDA else \"cpu\"\n",
    "imgTools = ImageTools()\n",
    "\n",
    "new_root = root + '_processed_' + 'train'\n",
    "\n",
    "\n",
    "def main():\n",
    "    features_dir = os.path.join(new_root, f'imagenet{image_size}_features')\n",
    "    labels_dir = os.path.join(new_root, f'imagenet{image_size}_labels')\n",
    "    conditions_dir = os.path.join(new_root, f'imagenet{image_size}_conditions')\n",
    "\n",
    "    # Setup data:\n",
    "    dataset = utils.dataset.CustomDataset(features_dir, labels_dir, conditions_dir)\n",
    "\n",
    "    loader = DataLoader(\n",
    "        dataset,\n",
    "        batch_size=1,\n",
    "        shuffle=False,\n",
    "        num_workers=num_workers,\n",
    "        pin_memory=True,\n",
    "        drop_last=True\n",
    "    )\n",
    "\n",
    "    idx = 0\n",
    "    x, y, c = None, None, None\n",
    "    for x, y, c in loader:\n",
    "        x = x.to(Device)\n",
    "        y = y.to(Device)\n",
    "        c = c.to(Device)\n",
    "        x = x.squeeze(dim=1)\n",
    "        y = y.squeeze(dim=1)\n",
    "        c = c.squeeze(dim=1)\n",
    "        x = x.detach().numpy()\n",
    "        y = y.detach().numpy()\n",
    "        c = c.detach().numpy()\n",
    "\n",
    "        idx += 1\n",
    "        \n",
    "        if idx > 0:\n",
    "            break\n",
    "            \n",
    "    print(idx, x.shape, y.shape, c.shape)\n",
    "    return x, y, c\n",
    "        \n",
    "\n",
    "\n"
   ],
   "id": "cad0900c57442895",
   "outputs": [],
   "execution_count": 11
  },
  {
   "metadata": {
    "ExecuteTime": {
     "end_time": "2024-05-26T09:38:20.498751Z",
     "start_time": "2024-05-26T09:38:20.472310Z"
    }
   },
   "cell_type": "code",
   "source": [
    "from matplotlib import pyplot as plt\n",
    "\n",
    "x, y, c = main()\n",
    "\n",
    "x_img = imgTools.pil_tensor_to_pil(torch.from_numpy(x[0]))\n",
    "x_img = imgTools.pil_to_cv2(x_img)\n",
    "imgTools.display(x_img)\n",
    "print(y)\n",
    "\n"
   ],
   "id": "3410bc11e32ae507",
   "outputs": [
    {
     "name": "stdout",
     "output_type": "stream",
     "text": [
      "1 (1, 16, 3, 128, 128) (1,) (1, 128, 128)\n"
     ]
    },
    {
     "ename": "ValueError",
     "evalue": "pic should be 2/3 dimensional. Got 4 dimensions.",
     "output_type": "error",
     "traceback": [
      "\u001B[0;31m---------------------------------------------------------------------------\u001B[0m",
      "\u001B[0;31mValueError\u001B[0m                                Traceback (most recent call last)",
      "Cell \u001B[0;32mIn[12], line 5\u001B[0m\n\u001B[1;32m      1\u001B[0m \u001B[38;5;28;01mfrom\u001B[39;00m \u001B[38;5;21;01mmatplotlib\u001B[39;00m \u001B[38;5;28;01mimport\u001B[39;00m pyplot \u001B[38;5;28;01mas\u001B[39;00m plt\n\u001B[1;32m      3\u001B[0m x, y, c \u001B[38;5;241m=\u001B[39m main()\n\u001B[0;32m----> 5\u001B[0m x_img \u001B[38;5;241m=\u001B[39m \u001B[43mimgTools\u001B[49m\u001B[38;5;241;43m.\u001B[39;49m\u001B[43mpil_tensor_to_pil\u001B[49m\u001B[43m(\u001B[49m\u001B[43mtorch\u001B[49m\u001B[38;5;241;43m.\u001B[39;49m\u001B[43mfrom_numpy\u001B[49m\u001B[43m(\u001B[49m\u001B[43mx\u001B[49m\u001B[43m[\u001B[49m\u001B[38;5;241;43m0\u001B[39;49m\u001B[43m]\u001B[49m\u001B[43m)\u001B[49m\u001B[43m)\u001B[49m\n\u001B[1;32m      6\u001B[0m x_img \u001B[38;5;241m=\u001B[39m imgTools\u001B[38;5;241m.\u001B[39mpil_to_cv2(x_img)\n\u001B[1;32m      7\u001B[0m imgTools\u001B[38;5;241m.\u001B[39mdisplay(x_img)\n",
      "File \u001B[0;32m~/Projects/control-DiT/utils/image_tools.py:115\u001B[0m, in \u001B[0;36mImageTools.pil_tensor_to_pil\u001B[0;34m(cls, tensor)\u001B[0m\n\u001B[1;32m    113\u001B[0m \u001B[38;5;129m@classmethod\u001B[39m\n\u001B[1;32m    114\u001B[0m \u001B[38;5;28;01mdef\u001B[39;00m \u001B[38;5;21mpil_tensor_to_pil\u001B[39m(\u001B[38;5;28mcls\u001B[39m, tensor):\n\u001B[0;32m--> 115\u001B[0m     \u001B[38;5;28;01mreturn\u001B[39;00m \u001B[43mtransforms\u001B[49m\u001B[38;5;241;43m.\u001B[39;49m\u001B[43mToPILImage\u001B[49m\u001B[43m(\u001B[49m\u001B[43m)\u001B[49m\u001B[43m(\u001B[49m\u001B[43mtensor\u001B[49m\u001B[43m)\u001B[49m\u001B[38;5;241m.\u001B[39mconvert(\u001B[38;5;124m'\u001B[39m\u001B[38;5;124mRGB\u001B[39m\u001B[38;5;124m'\u001B[39m)\n",
      "File \u001B[0;32m~/miniconda3/envs/DiT/lib/python3.9/site-packages/torchvision/transforms/transforms.py:227\u001B[0m, in \u001B[0;36mToPILImage.__call__\u001B[0;34m(self, pic)\u001B[0m\n\u001B[1;32m    218\u001B[0m \u001B[38;5;28;01mdef\u001B[39;00m \u001B[38;5;21m__call__\u001B[39m(\u001B[38;5;28mself\u001B[39m, pic):\n\u001B[1;32m    219\u001B[0m \u001B[38;5;250m    \u001B[39m\u001B[38;5;124;03m\"\"\"\u001B[39;00m\n\u001B[1;32m    220\u001B[0m \u001B[38;5;124;03m    Args:\u001B[39;00m\n\u001B[1;32m    221\u001B[0m \u001B[38;5;124;03m        pic (Tensor or numpy.ndarray): Image to be converted to PIL Image.\u001B[39;00m\n\u001B[0;32m   (...)\u001B[0m\n\u001B[1;32m    225\u001B[0m \n\u001B[1;32m    226\u001B[0m \u001B[38;5;124;03m    \"\"\"\u001B[39;00m\n\u001B[0;32m--> 227\u001B[0m     \u001B[38;5;28;01mreturn\u001B[39;00m \u001B[43mF\u001B[49m\u001B[38;5;241;43m.\u001B[39;49m\u001B[43mto_pil_image\u001B[49m\u001B[43m(\u001B[49m\u001B[43mpic\u001B[49m\u001B[43m,\u001B[49m\u001B[43m \u001B[49m\u001B[38;5;28;43mself\u001B[39;49m\u001B[38;5;241;43m.\u001B[39;49m\u001B[43mmode\u001B[49m\u001B[43m)\u001B[49m\n",
      "File \u001B[0;32m~/miniconda3/envs/DiT/lib/python3.9/site-packages/torchvision/transforms/functional.py:263\u001B[0m, in \u001B[0;36mto_pil_image\u001B[0;34m(pic, mode)\u001B[0m\n\u001B[1;32m    261\u001B[0m \u001B[38;5;28;01melif\u001B[39;00m \u001B[38;5;28misinstance\u001B[39m(pic, torch\u001B[38;5;241m.\u001B[39mTensor):\n\u001B[1;32m    262\u001B[0m     \u001B[38;5;28;01mif\u001B[39;00m pic\u001B[38;5;241m.\u001B[39mndimension() \u001B[38;5;129;01mnot\u001B[39;00m \u001B[38;5;129;01min\u001B[39;00m {\u001B[38;5;241m2\u001B[39m, \u001B[38;5;241m3\u001B[39m}:\n\u001B[0;32m--> 263\u001B[0m         \u001B[38;5;28;01mraise\u001B[39;00m \u001B[38;5;167;01mValueError\u001B[39;00m(\u001B[38;5;124mf\u001B[39m\u001B[38;5;124m\"\u001B[39m\u001B[38;5;124mpic should be 2/3 dimensional. Got \u001B[39m\u001B[38;5;132;01m{\u001B[39;00mpic\u001B[38;5;241m.\u001B[39mndimension()\u001B[38;5;132;01m}\u001B[39;00m\u001B[38;5;124m dimensions.\u001B[39m\u001B[38;5;124m\"\u001B[39m)\n\u001B[1;32m    265\u001B[0m     \u001B[38;5;28;01melif\u001B[39;00m pic\u001B[38;5;241m.\u001B[39mndimension() \u001B[38;5;241m==\u001B[39m \u001B[38;5;241m2\u001B[39m:\n\u001B[1;32m    266\u001B[0m         \u001B[38;5;66;03m# if 2D image, add channel dimension (CHW)\u001B[39;00m\n\u001B[1;32m    267\u001B[0m         pic \u001B[38;5;241m=\u001B[39m pic\u001B[38;5;241m.\u001B[39munsqueeze(\u001B[38;5;241m0\u001B[39m)\n",
      "\u001B[0;31mValueError\u001B[0m: pic should be 2/3 dimensional. Got 4 dimensions."
     ]
    }
   ],
   "execution_count": 12
  },
  {
   "metadata": {
    "ExecuteTime": {
     "end_time": "2024-05-26T09:38:20.499922Z",
     "start_time": "2024-05-26T09:38:20.499850Z"
    }
   },
   "cell_type": "code",
   "source": [
    "\n",
    "x2_img = imgTools.cv2_to_pil(x_img)\n",
    "x2_img.show()\n"
   ],
   "id": "5298e857f481752a",
   "outputs": [],
   "execution_count": null
  },
  {
   "metadata": {},
   "cell_type": "code",
   "source": "plt.imshow(c[0])",
   "id": "299050c324d711c7",
   "outputs": [],
   "execution_count": null
  },
  {
   "metadata": {},
   "cell_type": "code",
   "source": "",
   "id": "85393dfd63bff573",
   "outputs": [],
   "execution_count": null
  },
  {
   "metadata": {},
   "cell_type": "code",
   "source": "",
   "id": "e278b3ff06e48e23",
   "outputs": [],
   "execution_count": null
  }
 ],
 "metadata": {
  "kernelspec": {
   "display_name": "Python 3",
   "language": "python",
   "name": "python3"
  },
  "language_info": {
   "codemirror_mode": {
    "name": "ipython",
    "version": 2
   },
   "file_extension": ".py",
   "mimetype": "text/x-python",
   "name": "python",
   "nbconvert_exporter": "python",
   "pygments_lexer": "ipython2",
   "version": "2.7.6"
  }
 },
 "nbformat": 4,
 "nbformat_minor": 5
}
