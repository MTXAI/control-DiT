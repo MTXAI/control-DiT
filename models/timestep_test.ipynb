{
 "cells": [
  {
   "cell_type": "code",
   "id": "initial_id",
   "metadata": {
    "collapsed": true,
    "ExecuteTime": {
     "end_time": "2024-05-29T05:15:28.551930Z",
     "start_time": "2024-05-29T05:15:28.549527Z"
    }
   },
   "source": [
    ""
   ],
   "outputs": [],
   "execution_count": 65
  },
  {
   "metadata": {
    "ExecuteTime": {
     "end_time": "2024-05-29T05:15:28.558129Z",
     "start_time": "2024-05-29T05:15:28.553644Z"
    }
   },
   "cell_type": "code",
   "source": [
    "import torch\n",
    "import math\n",
    "\n",
    "\n",
    "num_timesteps = 1000\n",
    "# t = torch.randint(0, diffusion.num_timesteps, (x.shape[0],), device=device)\n",
    "# num_timesteps 作为时间步范围，随机生成长度与 x 相等的向量\n",
    "t = torch.randint(0, num_timesteps, (4,), device='cpu')\n",
    "\n",
    "t"
   ],
   "id": "436210035ea021b2",
   "outputs": [
    {
     "data": {
      "text/plain": [
       "tensor([358, 728, 904, 442])"
      ]
     },
     "execution_count": 66,
     "metadata": {},
     "output_type": "execute_result"
    }
   ],
   "execution_count": 66
  },
  {
   "metadata": {
    "ExecuteTime": {
     "end_time": "2024-05-29T05:15:28.563962Z",
     "start_time": "2024-05-29T05:15:28.559676Z"
    }
   },
   "cell_type": "code",
   "source": [
    "\n",
    "dim = 7\n",
    "max_period = 1000\n",
    "half = dim // 2\n",
    "# 按照指数衰竭生成频率张量\n",
    "freqs = torch.exp(\n",
    "    -math.log(max_period) * torch.arange(start=0, end=half, dtype=torch.float32) / half\n",
    ")\n",
    "freqs\n"
   ],
   "id": "ab615dc58edf3484",
   "outputs": [
    {
     "data": {
      "text/plain": [
       "tensor([1.0000, 0.1000, 0.0100])"
      ]
     },
     "execution_count": 67,
     "metadata": {},
     "output_type": "execute_result"
    }
   ],
   "execution_count": 67
  },
  {
   "metadata": {
    "ExecuteTime": {
     "end_time": "2024-05-29T05:15:28.568652Z",
     "start_time": "2024-05-29T05:15:28.564972Z"
    }
   },
   "cell_type": "code",
   "source": [
    "# 将 t 转置，将 t 和 freqs 扩展一个维度,并且相乘\n",
    "args = t[:, None].float() * freqs[None]\n",
    "print(t[:, None].float())\n",
    "print(freqs[None])\n",
    "print(args)\n"
   ],
   "id": "ed1990c3ebeb400d",
   "outputs": [
    {
     "name": "stdout",
     "output_type": "stream",
     "text": [
      "tensor([[358.],\n",
      "        [728.],\n",
      "        [904.],\n",
      "        [442.]])\n",
      "tensor([[1.0000, 0.1000, 0.0100]])\n",
      "tensor([[358.0000,  35.8000,   3.5800],\n",
      "        [728.0000,  72.8000,   7.2800],\n",
      "        [904.0000,  90.4000,   9.0400],\n",
      "        [442.0000,  44.2000,   4.4200]])\n"
     ]
    }
   ],
   "execution_count": 68
  },
  {
   "metadata": {
    "ExecuteTime": {
     "end_time": "2024-05-29T05:15:28.575634Z",
     "start_time": "2024-05-29T05:15:28.570287Z"
    }
   },
   "cell_type": "code",
   "source": [
    "# 将余弦和正弦 cat 到一起，对于奇数维度，在最后一列（dim = -1），补上 0\n",
    "print(torch.cos(args))\n",
    "print(torch.sin(args))\n",
    "embedding = torch.cat([torch.cos(args), torch.sin(args)], dim=-1)\n",
    "print(embedding[:, :1])\n",
    "print(torch.zeros_like(embedding[:, :1]))\n",
    "if dim % 2:\n",
    "    embedding = torch.cat([embedding, torch.zeros_like(embedding[:, :1])], dim=-1)\n",
    "\n",
    "embedding"
   ],
   "id": "5e674783c2233654",
   "outputs": [
    {
     "name": "stdout",
     "output_type": "stream",
     "text": [
      "tensor([[ 0.9900, -0.3224, -0.9054],\n",
      "        [ 0.6604, -0.8560,  0.5430],\n",
      "        [ 0.7118, -0.7608, -0.9269],\n",
      "        [-0.5698,  0.9764, -0.2882]])\n",
      "tensor([[-0.1411, -0.9466, -0.4245],\n",
      "        [-0.7509, -0.5170,  0.8397],\n",
      "        [-0.7023,  0.6489,  0.3754],\n",
      "        [ 0.8218,  0.2160, -0.9576]])\n",
      "tensor([[ 0.9900],\n",
      "        [ 0.6604],\n",
      "        [ 0.7118],\n",
      "        [-0.5698]])\n",
      "tensor([[0.],\n",
      "        [0.],\n",
      "        [0.],\n",
      "        [0.]])\n"
     ]
    },
    {
     "data": {
      "text/plain": [
       "tensor([[ 0.9900, -0.3224, -0.9054, -0.1411, -0.9466, -0.4245,  0.0000],\n",
       "        [ 0.6604, -0.8560,  0.5430, -0.7509, -0.5170,  0.8397,  0.0000],\n",
       "        [ 0.7118, -0.7608, -0.9269, -0.7023,  0.6489,  0.3754,  0.0000],\n",
       "        [-0.5698,  0.9764, -0.2882,  0.8218,  0.2160, -0.9576,  0.0000]])"
      ]
     },
     "execution_count": 69,
     "metadata": {},
     "output_type": "execute_result"
    }
   ],
   "execution_count": 69
  }
 ],
 "metadata": {
  "kernelspec": {
   "display_name": "Python 3",
   "language": "python",
   "name": "python3"
  },
  "language_info": {
   "codemirror_mode": {
    "name": "ipython",
    "version": 2
   },
   "file_extension": ".py",
   "mimetype": "text/x-python",
   "name": "python",
   "nbconvert_exporter": "python",
   "pygments_lexer": "ipython2",
   "version": "2.7.6"
  }
 },
 "nbformat": 4,
 "nbformat_minor": 5
}
